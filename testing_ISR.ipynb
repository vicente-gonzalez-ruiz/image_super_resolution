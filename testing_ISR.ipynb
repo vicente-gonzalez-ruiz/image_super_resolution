{
 "cells": [
  {
   "cell_type": "code",
   "execution_count": 1,
   "metadata": {},
   "outputs": [],
   "source": [
    "# https://github.com/idealo/image-super-resolution\n",
    "\n",
    "import numpy as np\n",
    "from PIL import Image\n",
    "\n",
    "img = Image.open('../images/lena.png')\n",
    "lr_img = np.array(img)/255.\n",
    "lr_img = np.expand_dims(lr_img, axis=0)"
   ]
  },
  {
   "cell_type": "code",
   "execution_count": null,
   "metadata": {},
   "outputs": [],
   "source": [
    "from ISR.models.rdn import RDN\n",
    "\n",
    "rdn = RDN(arch_params={'C':6, 'D':20, 'G':64, 'G0':64, 'x':2})\n",
    "rdn.model.load_weights('weights/rdn-C6-D20-G64-G064-x2_enhanced-e219.hdf5')\n",
    "\n",
    "sr_img = rdn.model.predict(lr_img)[0]\n",
    "sr_img = sr_img.clip(0, 1) * 255\n",
    "sr_img = np.uint8(sr_img)\n",
    "Image.fromarray(sr_img)"
   ]
  },
  {
   "cell_type": "code",
   "execution_count": null,
   "metadata": {},
   "outputs": [],
   "source": []
  }
 ],
 "metadata": {
  "kernelspec": {
   "display_name": "Python 3",
   "language": "python",
   "name": "python3"
  },
  "language_info": {
   "codemirror_mode": {
    "name": "ipython",
    "version": 3
   },
   "file_extension": ".py",
   "mimetype": "text/x-python",
   "name": "python",
   "nbconvert_exporter": "python",
   "pygments_lexer": "ipython3",
   "version": "3.6.1"
  }
 },
 "nbformat": 4,
 "nbformat_minor": 2
}
